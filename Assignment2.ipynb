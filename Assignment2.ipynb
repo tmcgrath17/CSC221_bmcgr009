{
  "nbformat": 4,
  "nbformat_minor": 0,
  "metadata": {
    "colab": {
      "provenance": [],
      "authorship_tag": "ABX9TyPpwlsu/a40z9FakaMatrXx",
      "include_colab_link": true
    },
    "kernelspec": {
      "name": "python3",
      "display_name": "Python 3"
    },
    "language_info": {
      "name": "python"
    }
  },
  "cells": [
    {
      "cell_type": "markdown",
      "metadata": {
        "id": "view-in-github",
        "colab_type": "text"
      },
      "source": [
        "<a href=\"https://colab.research.google.com/github/tmcgrath17/CSC221_bmcgr009/blob/main/Assignment2.ipynb\" target=\"_parent\"><img src=\"https://colab.research.google.com/assets/colab-badge.svg\" alt=\"Open In Colab\"/></a>"
      ]
    },
    {
      "cell_type": "code",
      "execution_count": 1,
      "metadata": {
        "colab": {
          "base_uri": "https://localhost:8080/"
        },
        "id": "ohTBODqWtDbD",
        "outputId": "bfcad1b4-9729-46aa-fb10-257b121374d7"
      },
      "outputs": [
        {
          "output_type": "stream",
          "name": "stdout",
          "text": [
            "test_1=37\n",
            "test_2 is [12, 14, 99]\n"
          ]
        }
      ],
      "source": [
        "test_1 = 37\n",
        "test_2 = [12, 14, 99]\n",
        "print(f'{test_1=}')\n",
        "print('test_2 is', test_2)"
      ]
    },
    {
      "cell_type": "code",
      "source": [
        "def doubler(x):\n",
        "    y = x * 2\n",
        "    return y\n",
        "\n",
        "print(doubler(test_1))\n",
        "print(doubler(test_2))"
      ],
      "metadata": {
        "colab": {
          "base_uri": "https://localhost:8080/"
        },
        "id": "j73QviqWtYox",
        "outputId": "a710b16b-bc0f-406e-fa12-0388c9e104af"
      },
      "execution_count": 2,
      "outputs": [
        {
          "output_type": "stream",
          "name": "stdout",
          "text": [
            "74\n",
            "[12, 14, 99, 12, 14, 99]\n"
          ]
        }
      ]
    },
    {
      "cell_type": "code",
      "source": [
        "class Wrapper:\n",
        "    def __init__(self, x):\n",
        "        self.x = x\n",
        "    def tripler(self):\n",
        "        y = self.x * 3\n",
        "        return y\n",
        "\n",
        "w1 = Wrapper(test_1)\n",
        "w2 = Wrapper(test_2)\n",
        "\n",
        "print(w1.tripler())\n",
        "print(w2.tripler())"
      ],
      "metadata": {
        "colab": {
          "base_uri": "https://localhost:8080/"
        },
        "id": "ma5Ilm_VtcD3",
        "outputId": "1e2a88f9-475f-4c10-e523-07d7a0df4b14"
      },
      "execution_count": 3,
      "outputs": [
        {
          "output_type": "stream",
          "name": "stdout",
          "text": [
            "111\n",
            "[12, 14, 99, 12, 14, 99, 12, 14, 99]\n"
          ]
        }
      ]
    }
  ]
}