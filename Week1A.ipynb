{
  "nbformat": 4,
  "nbformat_minor": 0,
  "metadata": {
    "colab": {
      "provenance": [],
      "authorship_tag": "ABX9TyOeH/FTQNuyFOaLEh4GTLQA",
      "include_colab_link": true
    },
    "kernelspec": {
      "name": "python3",
      "display_name": "Python 3"
    },
    "language_info": {
      "name": "python"
    }
  },
  "cells": [
    {
      "cell_type": "markdown",
      "metadata": {
        "id": "view-in-github",
        "colab_type": "text"
      },
      "source": [
        "<a href=\"https://colab.research.google.com/github/tmcgrath17/CSC221_bmcgr009/blob/main/Week1A.ipynb\" target=\"_parent\"><img src=\"https://colab.research.google.com/assets/colab-badge.svg\" alt=\"Open In Colab\"/></a>"
      ]
    },
    {
      "cell_type": "code",
      "execution_count": null,
      "metadata": {
        "id": "9HeULh7NXVDX"
      },
      "outputs": [],
      "source": [
        "#Brady McGrath\n",
        "#Week 1A"
      ]
    },
    {
      "cell_type": "code",
      "source": [
        "print(\"Helloooooooo world\")"
      ],
      "metadata": {
        "id": "ENiGFC-KXfHC"
      },
      "execution_count": null,
      "outputs": []
    }
  ]
}